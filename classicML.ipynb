{
  "nbformat": 4,
  "nbformat_minor": 0,
  "metadata": {
    "colab": {
      "name": "classicML",
      "provenance": [],
      "collapsed_sections": []
    },
    "kernelspec": {
      "display_name": "Python 3",
      "language": "python",
      "name": "python3"
    },
    "language_info": {
      "codemirror_mode": {
        "name": "ipython",
        "version": 3
      },
      "file_extension": ".py",
      "mimetype": "text/x-python",
      "name": "python",
      "nbconvert_exporter": "python",
      "pygments_lexer": "ipython3",
      "version": "3.6.3"
    }
  },
  "cells": [
    {
      "cell_type": "markdown",
      "metadata": {
        "id": "BBv-oIFLVYRz"
      },
      "source": [
        "# Прогназирование оттока клиентов.\n",
        "<br>\n",
        "Описание работы:\n",
        "<br>\n",
        "&nbsp;&nbsp;&nbsp;&nbsp; Предоставлен набор данных от телекоммуникационной компании. В данных содержится информация о почти шести тысячах пользователей, их демографических характеристиках, услугах, которыми они пользуются, длительности пользования услугами оператора, методе оплаты, размере оплаты. \n",
        "<br>\n",
        "\n",
        "&nbsp;&nbsp;&nbsp;&nbsp; Cтоит задача проанализировать данные и спрогнозировать отток пользователей (выявить людей, которые продлят контракт и которые не продлят).Работа включает в себя следующие пункты: \n",
        "1. Описание данных. \n",
        "2. Исследование зависимостей и формулирование гипотез. \n",
        "3. Построение моделей для прогнозирования оттока на основе проверенных гипотез и выявленных взаимосвязей. \n",
        "4. Сравнение качества полученных моделей. \n",
        "<br><br>"
      ]
    },
    {
      "cell_type": "markdown",
      "metadata": {
        "id": "uZY64JwzVYR6"
      },
      "source": [
        "## Codebook\n",
        "`telecom_users.csv` содержит следующие значения:<br><br>\n",
        "\n",
        "&nbsp;&nbsp;&nbsp;&nbsp; `customerID` – id клиента<br>\n",
        "&nbsp;&nbsp;&nbsp;&nbsp; `gender` – пол клиента (male/female)<br>\n",
        "&nbsp;&nbsp;&nbsp;&nbsp; `SeniorCitizen` – яляется ли клиент пенсионером (1, 0)<br>\n",
        "&nbsp;&nbsp;&nbsp;&nbsp; `Partner` – состоит ли клиент в браке (Yes, No)<br>\n",
        "&nbsp;&nbsp;&nbsp;&nbsp; `Dependents` – есть ли у клиента иждивенцы (Yes, No)<br>\n",
        "&nbsp;&nbsp;&nbsp;&nbsp; `tenure` – сколько месяцев человек являлся клиентом компании<br>\n",
        "&nbsp;&nbsp;&nbsp;&nbsp; `PhoneService` – подключена ли услуга телефонной связи (Yes, No)<br>\n",
        "&nbsp;&nbsp;&nbsp;&nbsp; `MultipleLines` – подключены ли несколько телефонных линий (Yes, No, No phone service)<br>\n",
        "&nbsp;&nbsp;&nbsp;&nbsp; `InternetService` – интернет-провайдер клиента (DSL, Fiber optic, No)<br>\n",
        "&nbsp;&nbsp;&nbsp;&nbsp; `OnlineSecurity` – подключена ли услуга онлайн-безопасности (Yes, No, No internet service)<br>\n",
        "&nbsp;&nbsp;&nbsp;&nbsp; `OnlineBackup` – подключена ли услуга online backup (Yes, No, No internet service)<br>\n",
        "&nbsp;&nbsp;&nbsp;&nbsp; `DeviceProtection` – есть ли у клиента страховка оборудования (Yes, No, No internet service)<br>\n",
        "&nbsp;&nbsp;&nbsp;&nbsp; `TechSupport` – подключена ли услуга технической поддержки (Yes, No, No internet service)<br>\n",
        "&nbsp;&nbsp;&nbsp;&nbsp; `StreamingTV` – подключена ли услуга стримингового телевидения (Yes, No, No internet service)<br>\n",
        "&nbsp;&nbsp;&nbsp;&nbsp; `StreamingMovies` – подключена ли услуга стримингового кинотеатра (Yes, No, No internet service)<br>\n",
        "&nbsp;&nbsp;&nbsp;&nbsp; `Contract` – тип контракта клиента (Month-to-month, One year, Two year)<br>\n",
        "&nbsp;&nbsp;&nbsp;&nbsp; `PaperlessBilling` – пользуется ли клиент безбумажным биллингом (Yes, No)<br>\n",
        "&nbsp;&nbsp;&nbsp;&nbsp; `PaymentMethod` – метод оплаты (Electronic check, Mailed check, Bank transfer (automatic), Credit card (automatic))<br>\n",
        "&nbsp;&nbsp;&nbsp;&nbsp; `MonthlyCharges` – месячный размер оплаты на настоящий момент<br>\n",
        "&nbsp;&nbsp;&nbsp;&nbsp; `TotalCharges` – общая сумма, которую клиент заплатил за услуги за все время<br>\n",
        "&nbsp;&nbsp;&nbsp;&nbsp; `Churn` – произошел ли отток (Yes or No)<br>"
      ]
    },
    {
      "cell_type": "markdown",
      "metadata": {
        "id": "sIRCLuWGVYR9"
      },
      "source": [
        "# 1. Описание данных"
      ]
    },
    {
      "cell_type": "code",
      "metadata": {
        "id": "s0fDRVkgVYSA",
        "colab": {
          "base_uri": "https://localhost:8080/",
          "height": 374
        },
        "outputId": "769cffd0-0c34-4134-a998-810b6d922fa5"
      },
      "source": [
        "import numpy as np\n",
        "import pandas as pd\n",
        "import matplotlib.pyplot as plt\n",
        "import seaborn as sns\n",
        "%matplotlib inline\n",
        "\n",
        "df = pd.read_csv('telecom_users.csv')\n",
        "df.head()"
      ],
      "execution_count": null,
      "outputs": [
        {
          "output_type": "execute_result",
          "data": {
            "text/html": [
              "\n",
              "  <div id=\"df-1c506a0b-97dd-4f34-8a61-e43a11522d61\">\n",
              "    <div class=\"colab-df-container\">\n",
              "      <div>\n",
              "<style scoped>\n",
              "    .dataframe tbody tr th:only-of-type {\n",
              "        vertical-align: middle;\n",
              "    }\n",
              "\n",
              "    .dataframe tbody tr th {\n",
              "        vertical-align: top;\n",
              "    }\n",
              "\n",
              "    .dataframe thead th {\n",
              "        text-align: right;\n",
              "    }\n",
              "</style>\n",
              "<table border=\"1\" class=\"dataframe\">\n",
              "  <thead>\n",
              "    <tr style=\"text-align: right;\">\n",
              "      <th></th>\n",
              "      <th>Unnamed: 0</th>\n",
              "      <th>customerID</th>\n",
              "      <th>gender</th>\n",
              "      <th>SeniorCitizen</th>\n",
              "      <th>Partner</th>\n",
              "      <th>Dependents</th>\n",
              "      <th>tenure</th>\n",
              "      <th>PhoneService</th>\n",
              "      <th>MultipleLines</th>\n",
              "      <th>InternetService</th>\n",
              "      <th>OnlineSecurity</th>\n",
              "      <th>OnlineBackup</th>\n",
              "      <th>DeviceProtection</th>\n",
              "      <th>TechSupport</th>\n",
              "      <th>StreamingTV</th>\n",
              "      <th>StreamingMovies</th>\n",
              "      <th>Contract</th>\n",
              "      <th>PaperlessBilling</th>\n",
              "      <th>PaymentMethod</th>\n",
              "      <th>MonthlyCharges</th>\n",
              "      <th>TotalCharges</th>\n",
              "      <th>Churn</th>\n",
              "    </tr>\n",
              "  </thead>\n",
              "  <tbody>\n",
              "    <tr>\n",
              "      <th>0</th>\n",
              "      <td>1869</td>\n",
              "      <td>7010-BRBUU</td>\n",
              "      <td>Male</td>\n",
              "      <td>0</td>\n",
              "      <td>Yes</td>\n",
              "      <td>Yes</td>\n",
              "      <td>72</td>\n",
              "      <td>Yes</td>\n",
              "      <td>Yes</td>\n",
              "      <td>No</td>\n",
              "      <td>No internet service</td>\n",
              "      <td>No internet service</td>\n",
              "      <td>No internet service</td>\n",
              "      <td>No internet service</td>\n",
              "      <td>No internet service</td>\n",
              "      <td>No internet service</td>\n",
              "      <td>Two year</td>\n",
              "      <td>No</td>\n",
              "      <td>Credit card (automatic)</td>\n",
              "      <td>24.10</td>\n",
              "      <td>1734.65</td>\n",
              "      <td>No</td>\n",
              "    </tr>\n",
              "    <tr>\n",
              "      <th>1</th>\n",
              "      <td>4528</td>\n",
              "      <td>9688-YGXVR</td>\n",
              "      <td>Female</td>\n",
              "      <td>0</td>\n",
              "      <td>No</td>\n",
              "      <td>No</td>\n",
              "      <td>44</td>\n",
              "      <td>Yes</td>\n",
              "      <td>No</td>\n",
              "      <td>Fiber optic</td>\n",
              "      <td>No</td>\n",
              "      <td>Yes</td>\n",
              "      <td>Yes</td>\n",
              "      <td>No</td>\n",
              "      <td>Yes</td>\n",
              "      <td>No</td>\n",
              "      <td>Month-to-month</td>\n",
              "      <td>Yes</td>\n",
              "      <td>Credit card (automatic)</td>\n",
              "      <td>88.15</td>\n",
              "      <td>3973.2</td>\n",
              "      <td>No</td>\n",
              "    </tr>\n",
              "    <tr>\n",
              "      <th>2</th>\n",
              "      <td>6344</td>\n",
              "      <td>9286-DOJGF</td>\n",
              "      <td>Female</td>\n",
              "      <td>1</td>\n",
              "      <td>Yes</td>\n",
              "      <td>No</td>\n",
              "      <td>38</td>\n",
              "      <td>Yes</td>\n",
              "      <td>Yes</td>\n",
              "      <td>Fiber optic</td>\n",
              "      <td>No</td>\n",
              "      <td>No</td>\n",
              "      <td>No</td>\n",
              "      <td>No</td>\n",
              "      <td>No</td>\n",
              "      <td>No</td>\n",
              "      <td>Month-to-month</td>\n",
              "      <td>Yes</td>\n",
              "      <td>Bank transfer (automatic)</td>\n",
              "      <td>74.95</td>\n",
              "      <td>2869.85</td>\n",
              "      <td>Yes</td>\n",
              "    </tr>\n",
              "    <tr>\n",
              "      <th>3</th>\n",
              "      <td>6739</td>\n",
              "      <td>6994-KERXL</td>\n",
              "      <td>Male</td>\n",
              "      <td>0</td>\n",
              "      <td>No</td>\n",
              "      <td>No</td>\n",
              "      <td>4</td>\n",
              "      <td>Yes</td>\n",
              "      <td>No</td>\n",
              "      <td>DSL</td>\n",
              "      <td>No</td>\n",
              "      <td>No</td>\n",
              "      <td>No</td>\n",
              "      <td>No</td>\n",
              "      <td>No</td>\n",
              "      <td>Yes</td>\n",
              "      <td>Month-to-month</td>\n",
              "      <td>Yes</td>\n",
              "      <td>Electronic check</td>\n",
              "      <td>55.90</td>\n",
              "      <td>238.5</td>\n",
              "      <td>No</td>\n",
              "    </tr>\n",
              "    <tr>\n",
              "      <th>4</th>\n",
              "      <td>432</td>\n",
              "      <td>2181-UAESM</td>\n",
              "      <td>Male</td>\n",
              "      <td>0</td>\n",
              "      <td>No</td>\n",
              "      <td>No</td>\n",
              "      <td>2</td>\n",
              "      <td>Yes</td>\n",
              "      <td>No</td>\n",
              "      <td>DSL</td>\n",
              "      <td>Yes</td>\n",
              "      <td>No</td>\n",
              "      <td>Yes</td>\n",
              "      <td>No</td>\n",
              "      <td>No</td>\n",
              "      <td>No</td>\n",
              "      <td>Month-to-month</td>\n",
              "      <td>No</td>\n",
              "      <td>Electronic check</td>\n",
              "      <td>53.45</td>\n",
              "      <td>119.5</td>\n",
              "      <td>No</td>\n",
              "    </tr>\n",
              "  </tbody>\n",
              "</table>\n",
              "</div>\n",
              "      <button class=\"colab-df-convert\" onclick=\"convertToInteractive('df-1c506a0b-97dd-4f34-8a61-e43a11522d61')\"\n",
              "              title=\"Convert this dataframe to an interactive table.\"\n",
              "              style=\"display:none;\">\n",
              "        \n",
              "  <svg xmlns=\"http://www.w3.org/2000/svg\" height=\"24px\"viewBox=\"0 0 24 24\"\n",
              "       width=\"24px\">\n",
              "    <path d=\"M0 0h24v24H0V0z\" fill=\"none\"/>\n",
              "    <path d=\"M18.56 5.44l.94 2.06.94-2.06 2.06-.94-2.06-.94-.94-2.06-.94 2.06-2.06.94zm-11 1L8.5 8.5l.94-2.06 2.06-.94-2.06-.94L8.5 2.5l-.94 2.06-2.06.94zm10 10l.94 2.06.94-2.06 2.06-.94-2.06-.94-.94-2.06-.94 2.06-2.06.94z\"/><path d=\"M17.41 7.96l-1.37-1.37c-.4-.4-.92-.59-1.43-.59-.52 0-1.04.2-1.43.59L10.3 9.45l-7.72 7.72c-.78.78-.78 2.05 0 2.83L4 21.41c.39.39.9.59 1.41.59.51 0 1.02-.2 1.41-.59l7.78-7.78 2.81-2.81c.8-.78.8-2.07 0-2.86zM5.41 20L4 18.59l7.72-7.72 1.47 1.35L5.41 20z\"/>\n",
              "  </svg>\n",
              "      </button>\n",
              "      \n",
              "  <style>\n",
              "    .colab-df-container {\n",
              "      display:flex;\n",
              "      flex-wrap:wrap;\n",
              "      gap: 12px;\n",
              "    }\n",
              "\n",
              "    .colab-df-convert {\n",
              "      background-color: #E8F0FE;\n",
              "      border: none;\n",
              "      border-radius: 50%;\n",
              "      cursor: pointer;\n",
              "      display: none;\n",
              "      fill: #1967D2;\n",
              "      height: 32px;\n",
              "      padding: 0 0 0 0;\n",
              "      width: 32px;\n",
              "    }\n",
              "\n",
              "    .colab-df-convert:hover {\n",
              "      background-color: #E2EBFA;\n",
              "      box-shadow: 0px 1px 2px rgba(60, 64, 67, 0.3), 0px 1px 3px 1px rgba(60, 64, 67, 0.15);\n",
              "      fill: #174EA6;\n",
              "    }\n",
              "\n",
              "    [theme=dark] .colab-df-convert {\n",
              "      background-color: #3B4455;\n",
              "      fill: #D2E3FC;\n",
              "    }\n",
              "\n",
              "    [theme=dark] .colab-df-convert:hover {\n",
              "      background-color: #434B5C;\n",
              "      box-shadow: 0px 1px 3px 1px rgba(0, 0, 0, 0.15);\n",
              "      filter: drop-shadow(0px 1px 2px rgba(0, 0, 0, 0.3));\n",
              "      fill: #FFFFFF;\n",
              "    }\n",
              "  </style>\n",
              "\n",
              "      <script>\n",
              "        const buttonEl =\n",
              "          document.querySelector('#df-1c506a0b-97dd-4f34-8a61-e43a11522d61 button.colab-df-convert');\n",
              "        buttonEl.style.display =\n",
              "          google.colab.kernel.accessAllowed ? 'block' : 'none';\n",
              "\n",
              "        async function convertToInteractive(key) {\n",
              "          const element = document.querySelector('#df-1c506a0b-97dd-4f34-8a61-e43a11522d61');\n",
              "          const dataTable =\n",
              "            await google.colab.kernel.invokeFunction('convertToInteractive',\n",
              "                                                     [key], {});\n",
              "          if (!dataTable) return;\n",
              "\n",
              "          const docLinkHtml = 'Like what you see? Visit the ' +\n",
              "            '<a target=\"_blank\" href=https://colab.research.google.com/notebooks/data_table.ipynb>data table notebook</a>'\n",
              "            + ' to learn more about interactive tables.';\n",
              "          element.innerHTML = '';\n",
              "          dataTable['output_type'] = 'display_data';\n",
              "          await google.colab.output.renderOutput(dataTable, element);\n",
              "          const docLink = document.createElement('div');\n",
              "          docLink.innerHTML = docLinkHtml;\n",
              "          element.appendChild(docLink);\n",
              "        }\n",
              "      </script>\n",
              "    </div>\n",
              "  </div>\n",
              "  "
            ],
            "text/plain": [
              "   Unnamed: 0  customerID  gender  ...  MonthlyCharges TotalCharges Churn\n",
              "0        1869  7010-BRBUU    Male  ...           24.10      1734.65    No\n",
              "1        4528  9688-YGXVR  Female  ...           88.15       3973.2    No\n",
              "2        6344  9286-DOJGF  Female  ...           74.95      2869.85   Yes\n",
              "3        6739  6994-KERXL    Male  ...           55.90        238.5    No\n",
              "4         432  2181-UAESM    Male  ...           53.45        119.5    No\n",
              "\n",
              "[5 rows x 22 columns]"
            ]
          },
          "metadata": {},
          "execution_count": 1
        }
      ]
    },
    {
      "cell_type": "code",
      "source": [
        "# Информация по DataFrame\n",
        "df.info()\n",
        "df.shape"
      ],
      "metadata": {
        "colab": {
          "base_uri": "https://localhost:8080/"
        },
        "id": "_pNIfBuba1y5",
        "outputId": "f2450b67-349c-4f24-9058-7f740ec3feef"
      },
      "execution_count": null,
      "outputs": [
        {
          "output_type": "stream",
          "name": "stdout",
          "text": [
            "<class 'pandas.core.frame.DataFrame'>\n",
            "RangeIndex: 5986 entries, 0 to 5985\n",
            "Data columns (total 22 columns):\n",
            " #   Column            Non-Null Count  Dtype  \n",
            "---  ------            --------------  -----  \n",
            " 0   Unnamed: 0        5986 non-null   int64  \n",
            " 1   customerID        5986 non-null   object \n",
            " 2   gender            5986 non-null   object \n",
            " 3   SeniorCitizen     5986 non-null   int64  \n",
            " 4   Partner           5986 non-null   object \n",
            " 5   Dependents        5986 non-null   object \n",
            " 6   tenure            5986 non-null   int64  \n",
            " 7   PhoneService      5986 non-null   object \n",
            " 8   MultipleLines     5986 non-null   object \n",
            " 9   InternetService   5986 non-null   object \n",
            " 10  OnlineSecurity    5986 non-null   object \n",
            " 11  OnlineBackup      5986 non-null   object \n",
            " 12  DeviceProtection  5986 non-null   object \n",
            " 13  TechSupport       5986 non-null   object \n",
            " 14  StreamingTV       5986 non-null   object \n",
            " 15  StreamingMovies   5986 non-null   object \n",
            " 16  Contract          5986 non-null   object \n",
            " 17  PaperlessBilling  5986 non-null   object \n",
            " 18  PaymentMethod     5986 non-null   object \n",
            " 19  MonthlyCharges    5986 non-null   float64\n",
            " 20  TotalCharges      5986 non-null   object \n",
            " 21  Churn             5986 non-null   object \n",
            "dtypes: float64(1), int64(3), object(18)\n",
            "memory usage: 1.0+ MB\n"
          ]
        },
        {
          "output_type": "execute_result",
          "data": {
            "text/plain": [
              "(5986, 22)"
            ]
          },
          "metadata": {},
          "execution_count": 2
        }
      ]
    },
    {
      "cell_type": "markdown",
      "source": [
        "Пропущенных данных нет."
      ],
      "metadata": {
        "id": "rVF9zZsW2_-E"
      }
    },
    {
      "cell_type": "markdown",
      "source": [
        "Первым этапом уберем столбцы, которые не предоставляют для нас полезной информации. Unnamed: 0, customerID, TotalCharges. TotalCharges убираем тоже т.к \n",
        "является результатом перемножения имеющихся двух столбцов (размер месячной оплаты на длительность использования)"
      ],
      "metadata": {
        "id": "txNHoG9Q4DW_"
      }
    },
    {
      "cell_type": "code",
      "source": [
        "df_drop = df.drop(['Unnamed: 0', 'customerID','TotalCharges'], axis = 1)"
      ],
      "metadata": {
        "id": "qws2_l0ca1t_"
      },
      "execution_count": null,
      "outputs": []
    },
    {
      "cell_type": "markdown",
      "source": [
        "Для обучения моделей, преобразуем данные к числовому виду."
      ],
      "metadata": {
        "id": "wHHMTCRB7VSd"
      }
    },
    {
      "cell_type": "code",
      "source": [
        "df_drop['gender'].replace(['Male', 'Female'], [0, 1], inplace=True)\n",
        "\n",
        "a_list = ['Partner','Dependents','PhoneService','PaperlessBilling','Churn']\n",
        "df_drop[a_list] = df_drop[a_list].replace({'Yes':'1', 'No':'0'}).astype(int)\n",
        "\n",
        "b_list = ['MultipleLines','OnlineSecurity','OnlineBackup','DeviceProtection','TechSupport',\n",
        "           'StreamingTV','StreamingMovies']\n",
        "\n",
        "df_drop[b_list] = df_drop[b_list].replace({'Yes':'1', 'No':'0', 'No phone service':'2', 'No internet service':'2'}).astype(int)\n",
        "\n",
        "df_drop['Contract'] = df_drop['Contract'].replace({'Month-to-month':'0','One year':'1','Two year':'2'}).astype(int)\n",
        "\n",
        "df_drop['InternetService'] = df_drop['InternetService'].replace({'No':'0','DSL':'1','Fiber optic':'2'}).astype(int)\n",
        "\n",
        "df_drop['PaymentMethod'] = df_drop['PaymentMethod'].replace({'Electronic check':'0','Mailed check':'1',\n",
        "                                                             'Bank transfer (automatic)':'2','Credit card (automatic)':'3'}).astype(int)"
      ],
      "metadata": {
        "id": "kEbsFdSi7V5F"
      },
      "execution_count": null,
      "outputs": []
    },
    {
      "cell_type": "markdown",
      "source": [
        "Для столбцов tenure и MonthlyCharges сделаем статистику, чтобы разбить значения по группам. Разбиение групп произведем следующим образом:<br>\n",
        "Первая группа значения до 25 процентиля<br>\n",
        "Вторая группа значения от 25 до 75 процентиля <br>\n",
        "Третья группа значения после 75 процентиля <br>\n"
      ],
      "metadata": {
        "id": "cuDnGtgD7q3b"
      }
    },
    {
      "cell_type": "code",
      "source": [
        "df_drop['tenure'].describe()"
      ],
      "metadata": {
        "colab": {
          "base_uri": "https://localhost:8080/"
        },
        "id": "SUDwIKh0a1rm",
        "outputId": "36b6e434-0130-4913-9eab-f49a02b180e9"
      },
      "execution_count": null,
      "outputs": [
        {
          "output_type": "execute_result",
          "data": {
            "text/plain": [
              "count    5986.000000\n",
              "mean       32.468760\n",
              "std        24.516391\n",
              "min         0.000000\n",
              "25%         9.000000\n",
              "50%        29.000000\n",
              "75%        56.000000\n",
              "max        72.000000\n",
              "Name: tenure, dtype: float64"
            ]
          },
          "metadata": {},
          "execution_count": 5
        }
      ]
    },
    {
      "cell_type": "code",
      "source": [
        "df_drop['MonthlyCharges'].describe()"
      ],
      "metadata": {
        "colab": {
          "base_uri": "https://localhost:8080/"
        },
        "id": "s-TE_XjgDWvG",
        "outputId": "0c3f107e-3178-4a7f-9377-2ac2c49f9a97"
      },
      "execution_count": null,
      "outputs": [
        {
          "output_type": "execute_result",
          "data": {
            "text/plain": [
              "count    5986.000000\n",
              "mean       64.802213\n",
              "std        30.114702\n",
              "min        18.250000\n",
              "25%        35.650000\n",
              "50%        70.400000\n",
              "75%        89.900000\n",
              "max       118.750000\n",
              "Name: MonthlyCharges, dtype: float64"
            ]
          },
          "metadata": {},
          "execution_count": 7
        }
      ]
    },
    {
      "cell_type": "code",
      "source": [
        "df_drop['tenure'] = df_drop.tenure.apply(lambda x: 0 if x < 9 else (1 if 9<=x<56 else 2))\n",
        "df_drop['MonthlyCharges'] = df_drop.MonthlyCharges.apply(lambda x: 0 if x < 36 else (1 if 36<=x<90 else 2))"
      ],
      "metadata": {
        "id": "ZwmLRyJyDn-L"
      },
      "execution_count": null,
      "outputs": []
    },
    {
      "cell_type": "code",
      "source": [
        "df_drop.head()"
      ],
      "metadata": {
        "id": "_J2Wy3Ika1iG",
        "colab": {
          "base_uri": "https://localhost:8080/",
          "height": 270
        },
        "outputId": "2ea92912-3767-4a6d-8669-7a48b8d92a10"
      },
      "execution_count": null,
      "outputs": [
        {
          "output_type": "execute_result",
          "data": {
            "text/html": [
              "\n",
              "  <div id=\"df-c7b89870-0389-4001-bee9-b0e558235e00\">\n",
              "    <div class=\"colab-df-container\">\n",
              "      <div>\n",
              "<style scoped>\n",
              "    .dataframe tbody tr th:only-of-type {\n",
              "        vertical-align: middle;\n",
              "    }\n",
              "\n",
              "    .dataframe tbody tr th {\n",
              "        vertical-align: top;\n",
              "    }\n",
              "\n",
              "    .dataframe thead th {\n",
              "        text-align: right;\n",
              "    }\n",
              "</style>\n",
              "<table border=\"1\" class=\"dataframe\">\n",
              "  <thead>\n",
              "    <tr style=\"text-align: right;\">\n",
              "      <th></th>\n",
              "      <th>gender</th>\n",
              "      <th>SeniorCitizen</th>\n",
              "      <th>Partner</th>\n",
              "      <th>Dependents</th>\n",
              "      <th>tenure</th>\n",
              "      <th>PhoneService</th>\n",
              "      <th>MultipleLines</th>\n",
              "      <th>InternetService</th>\n",
              "      <th>OnlineSecurity</th>\n",
              "      <th>OnlineBackup</th>\n",
              "      <th>DeviceProtection</th>\n",
              "      <th>TechSupport</th>\n",
              "      <th>StreamingTV</th>\n",
              "      <th>StreamingMovies</th>\n",
              "      <th>Contract</th>\n",
              "      <th>PaperlessBilling</th>\n",
              "      <th>PaymentMethod</th>\n",
              "      <th>MonthlyCharges</th>\n",
              "      <th>Churn</th>\n",
              "    </tr>\n",
              "  </thead>\n",
              "  <tbody>\n",
              "    <tr>\n",
              "      <th>0</th>\n",
              "      <td>0</td>\n",
              "      <td>0</td>\n",
              "      <td>1</td>\n",
              "      <td>1</td>\n",
              "      <td>2</td>\n",
              "      <td>1</td>\n",
              "      <td>1</td>\n",
              "      <td>0</td>\n",
              "      <td>2</td>\n",
              "      <td>2</td>\n",
              "      <td>2</td>\n",
              "      <td>2</td>\n",
              "      <td>2</td>\n",
              "      <td>2</td>\n",
              "      <td>2</td>\n",
              "      <td>0</td>\n",
              "      <td>3</td>\n",
              "      <td>0</td>\n",
              "      <td>0</td>\n",
              "    </tr>\n",
              "    <tr>\n",
              "      <th>1</th>\n",
              "      <td>1</td>\n",
              "      <td>0</td>\n",
              "      <td>0</td>\n",
              "      <td>0</td>\n",
              "      <td>1</td>\n",
              "      <td>1</td>\n",
              "      <td>0</td>\n",
              "      <td>2</td>\n",
              "      <td>0</td>\n",
              "      <td>1</td>\n",
              "      <td>1</td>\n",
              "      <td>0</td>\n",
              "      <td>1</td>\n",
              "      <td>0</td>\n",
              "      <td>0</td>\n",
              "      <td>1</td>\n",
              "      <td>3</td>\n",
              "      <td>1</td>\n",
              "      <td>0</td>\n",
              "    </tr>\n",
              "    <tr>\n",
              "      <th>2</th>\n",
              "      <td>1</td>\n",
              "      <td>1</td>\n",
              "      <td>1</td>\n",
              "      <td>0</td>\n",
              "      <td>1</td>\n",
              "      <td>1</td>\n",
              "      <td>1</td>\n",
              "      <td>2</td>\n",
              "      <td>0</td>\n",
              "      <td>0</td>\n",
              "      <td>0</td>\n",
              "      <td>0</td>\n",
              "      <td>0</td>\n",
              "      <td>0</td>\n",
              "      <td>0</td>\n",
              "      <td>1</td>\n",
              "      <td>2</td>\n",
              "      <td>1</td>\n",
              "      <td>1</td>\n",
              "    </tr>\n",
              "    <tr>\n",
              "      <th>3</th>\n",
              "      <td>0</td>\n",
              "      <td>0</td>\n",
              "      <td>0</td>\n",
              "      <td>0</td>\n",
              "      <td>0</td>\n",
              "      <td>1</td>\n",
              "      <td>0</td>\n",
              "      <td>1</td>\n",
              "      <td>0</td>\n",
              "      <td>0</td>\n",
              "      <td>0</td>\n",
              "      <td>0</td>\n",
              "      <td>0</td>\n",
              "      <td>1</td>\n",
              "      <td>0</td>\n",
              "      <td>1</td>\n",
              "      <td>0</td>\n",
              "      <td>1</td>\n",
              "      <td>0</td>\n",
              "    </tr>\n",
              "    <tr>\n",
              "      <th>4</th>\n",
              "      <td>0</td>\n",
              "      <td>0</td>\n",
              "      <td>0</td>\n",
              "      <td>0</td>\n",
              "      <td>0</td>\n",
              "      <td>1</td>\n",
              "      <td>0</td>\n",
              "      <td>1</td>\n",
              "      <td>1</td>\n",
              "      <td>0</td>\n",
              "      <td>1</td>\n",
              "      <td>0</td>\n",
              "      <td>0</td>\n",
              "      <td>0</td>\n",
              "      <td>0</td>\n",
              "      <td>0</td>\n",
              "      <td>0</td>\n",
              "      <td>1</td>\n",
              "      <td>0</td>\n",
              "    </tr>\n",
              "  </tbody>\n",
              "</table>\n",
              "</div>\n",
              "      <button class=\"colab-df-convert\" onclick=\"convertToInteractive('df-c7b89870-0389-4001-bee9-b0e558235e00')\"\n",
              "              title=\"Convert this dataframe to an interactive table.\"\n",
              "              style=\"display:none;\">\n",
              "        \n",
              "  <svg xmlns=\"http://www.w3.org/2000/svg\" height=\"24px\"viewBox=\"0 0 24 24\"\n",
              "       width=\"24px\">\n",
              "    <path d=\"M0 0h24v24H0V0z\" fill=\"none\"/>\n",
              "    <path d=\"M18.56 5.44l.94 2.06.94-2.06 2.06-.94-2.06-.94-.94-2.06-.94 2.06-2.06.94zm-11 1L8.5 8.5l.94-2.06 2.06-.94-2.06-.94L8.5 2.5l-.94 2.06-2.06.94zm10 10l.94 2.06.94-2.06 2.06-.94-2.06-.94-.94-2.06-.94 2.06-2.06.94z\"/><path d=\"M17.41 7.96l-1.37-1.37c-.4-.4-.92-.59-1.43-.59-.52 0-1.04.2-1.43.59L10.3 9.45l-7.72 7.72c-.78.78-.78 2.05 0 2.83L4 21.41c.39.39.9.59 1.41.59.51 0 1.02-.2 1.41-.59l7.78-7.78 2.81-2.81c.8-.78.8-2.07 0-2.86zM5.41 20L4 18.59l7.72-7.72 1.47 1.35L5.41 20z\"/>\n",
              "  </svg>\n",
              "      </button>\n",
              "      \n",
              "  <style>\n",
              "    .colab-df-container {\n",
              "      display:flex;\n",
              "      flex-wrap:wrap;\n",
              "      gap: 12px;\n",
              "    }\n",
              "\n",
              "    .colab-df-convert {\n",
              "      background-color: #E8F0FE;\n",
              "      border: none;\n",
              "      border-radius: 50%;\n",
              "      cursor: pointer;\n",
              "      display: none;\n",
              "      fill: #1967D2;\n",
              "      height: 32px;\n",
              "      padding: 0 0 0 0;\n",
              "      width: 32px;\n",
              "    }\n",
              "\n",
              "    .colab-df-convert:hover {\n",
              "      background-color: #E2EBFA;\n",
              "      box-shadow: 0px 1px 2px rgba(60, 64, 67, 0.3), 0px 1px 3px 1px rgba(60, 64, 67, 0.15);\n",
              "      fill: #174EA6;\n",
              "    }\n",
              "\n",
              "    [theme=dark] .colab-df-convert {\n",
              "      background-color: #3B4455;\n",
              "      fill: #D2E3FC;\n",
              "    }\n",
              "\n",
              "    [theme=dark] .colab-df-convert:hover {\n",
              "      background-color: #434B5C;\n",
              "      box-shadow: 0px 1px 3px 1px rgba(0, 0, 0, 0.15);\n",
              "      filter: drop-shadow(0px 1px 2px rgba(0, 0, 0, 0.3));\n",
              "      fill: #FFFFFF;\n",
              "    }\n",
              "  </style>\n",
              "\n",
              "      <script>\n",
              "        const buttonEl =\n",
              "          document.querySelector('#df-c7b89870-0389-4001-bee9-b0e558235e00 button.colab-df-convert');\n",
              "        buttonEl.style.display =\n",
              "          google.colab.kernel.accessAllowed ? 'block' : 'none';\n",
              "\n",
              "        async function convertToInteractive(key) {\n",
              "          const element = document.querySelector('#df-c7b89870-0389-4001-bee9-b0e558235e00');\n",
              "          const dataTable =\n",
              "            await google.colab.kernel.invokeFunction('convertToInteractive',\n",
              "                                                     [key], {});\n",
              "          if (!dataTable) return;\n",
              "\n",
              "          const docLinkHtml = 'Like what you see? Visit the ' +\n",
              "            '<a target=\"_blank\" href=https://colab.research.google.com/notebooks/data_table.ipynb>data table notebook</a>'\n",
              "            + ' to learn more about interactive tables.';\n",
              "          element.innerHTML = '';\n",
              "          dataTable['output_type'] = 'display_data';\n",
              "          await google.colab.output.renderOutput(dataTable, element);\n",
              "          const docLink = document.createElement('div');\n",
              "          docLink.innerHTML = docLinkHtml;\n",
              "          element.appendChild(docLink);\n",
              "        }\n",
              "      </script>\n",
              "    </div>\n",
              "  </div>\n",
              "  "
            ],
            "text/plain": [
              "   gender  SeniorCitizen  Partner  ...  PaymentMethod  MonthlyCharges  Churn\n",
              "0       0              0        1  ...              3               0      0\n",
              "1       1              0        0  ...              3               1      0\n",
              "2       1              1        1  ...              2               1      1\n",
              "3       0              0        0  ...              0               1      0\n",
              "4       0              0        0  ...              0               1      0\n",
              "\n",
              "[5 rows x 19 columns]"
            ]
          },
          "metadata": {},
          "execution_count": 9
        }
      ]
    },
    {
      "cell_type": "markdown",
      "metadata": {
        "id": "TDUhZEKyVYSN"
      },
      "source": [
        "# 2. Исследование зависимостей и формулирование гипотез"
      ]
    },
    {
      "cell_type": "markdown",
      "source": [
        "Для поиска корреляционных связей построим с помощью библиотеки seaborn тепловую карту."
      ],
      "metadata": {
        "id": "_8x8-mcR9PYM"
      }
    },
    {
      "cell_type": "code",
      "source": [
        "colormap = plt.cm.RdBu\n",
        "plt.figure(figsize=(14,12))\n",
        "plt.title('Pearson Correlation of Features', y=1.05, size=15)\n",
        "sns.heatmap(df_drop.corr(),linewidths=0.1,vmax=1.0, \n",
        "            square=True, cmap=colormap, linecolor='white', annot=True)"
      ],
      "metadata": {
        "colab": {
          "base_uri": "https://localhost:8080/",
          "height": 815
        },
        "id": "hpAWS_o5L8Wp",
        "outputId": "f610cf63-b3e5-4f1f-9334-897496255f5e"
      },
      "execution_count": null,
      "outputs": [
        {
          "output_type": "execute_result",
          "data": {
            "text/plain": [
              "<matplotlib.axes._subplots.AxesSubplot at 0x7fac04c122d0>"
            ]
          },
          "metadata": {},
          "execution_count": 10
        },
        {
          "output_type": "display_data",
          "data": {
            "image/png": "[encoded data removed]",
            "text/plain": [
              "<Figure size 1008x864 with 2 Axes>"
            ]
          },
          "metadata": {
            "needs_background": "light"
          }
        }
      ]
    },
    {
      "cell_type": "markdown",
      "source": [
        "Предсказывая отток клиентов (Churn) наибольшее значение корреляционной связи видим у фичи InternetService (0,31).Также заметны положительные зависимости у SeniorCitizen, PaperlessBilling, MonthlyCharges."
      ],
      "metadata": {
        "id": "qNssL1A2KLqe"
      }
    },
    {
      "cell_type": "markdown",
      "source": [
        "Подробнее рассмотрим самую сильную зависимость между сервисным оператором и оттоком клиентов."
      ],
      "metadata": {
        "id": "Y8e-7mbF6WKX"
      }
    },
    {
      "cell_type": "code",
      "source": [
        "print(df_drop.groupby('InternetService')['Churn'].sum())\n",
        "print(df_drop.groupby('InternetService')['Churn'].count())"
      ],
      "metadata": {
        "colab": {
          "base_uri": "https://localhost:8080/"
        },
        "id": "wtwpe-f06L1J",
        "outputId": "327b716a-2c40-45e0-c905-0be4025e7ef4"
      },
      "execution_count": null,
      "outputs": [
        {
          "output_type": "stream",
          "name": "stdout",
          "text": [
            "InternetService\n",
            "0      99\n",
            "1     397\n",
            "2    1091\n",
            "Name: Churn, dtype: int64\n",
            "InternetService\n",
            "0    1291\n",
            "1    2068\n",
            "2    2627\n",
            "Name: Churn, dtype: int64\n"
          ]
        }
      ]
    },
    {
      "cell_type": "markdown",
      "source": [
        "При анализе выявлено, что у оператора Fiber optic сильной отток клиента. Из 2627 пользователей ушло 1091 ( почти половина от общего числа). "
      ],
      "metadata": {
        "id": "ZpyRF5do6VQx"
      }
    },
    {
      "cell_type": "markdown",
      "source": [
        "Анализируя фичи  SeniorCitizen, PaperlessBilling, MonthlyCharges, выберем размер месячной оплаты и ожидаем сильную связь с оттоком из-за ее размера (MonthlyCharges).\n",
        "\n"
      ],
      "metadata": {
        "id": "vKt0y12w9x1T"
      }
    },
    {
      "cell_type": "code",
      "source": [
        "print(df.groupby('Churn')['MonthlyCharges'].describe())"
      ],
      "metadata": {
        "colab": {
          "base_uri": "https://localhost:8080/"
        },
        "id": "T7irTAd56UvR",
        "outputId": "76e29ba2-580f-4391-d04d-4092b938541d"
      },
      "execution_count": null,
      "outputs": [
        {
          "output_type": "stream",
          "name": "stdout",
          "text": [
            "        count       mean        std    min     25%    50%   75%     max\n",
            "Churn                                                                  \n",
            "No     4399.0  61.424506  31.086101  18.25  25.125  64.75  88.7  118.75\n",
            "Yes    1587.0  74.164871  24.965002  18.85  55.675  79.50  94.4  118.35\n"
          ]
        }
      ]
    },
    {
      "cell_type": "markdown",
      "source": [
        "Как и ожидалось у клинетов из оттока значение 25 процентиля в два раза больше, чем у оставшихся клиентов. Посмотрим на значения месячной оплаты по компаниям."
      ],
      "metadata": {
        "id": "og8yuPPm_hYi"
      }
    },
    {
      "cell_type": "code",
      "source": [
        "pd.set_option('display.max_columns', 500)\n",
        "print(df.groupby(['InternetService','Churn'])['MonthlyCharges'].describe())"
      ],
      "metadata": {
        "colab": {
          "base_uri": "https://localhost:8080/"
        },
        "id": "sj4NRjBP-ppF",
        "outputId": "ee01c3c9-3c56-4678-efb4-6e360fb6f80f"
      },
      "execution_count": null,
      "outputs": [
        {
          "output_type": "stream",
          "name": "stdout",
          "text": [
            "                        count       mean        std    min      25%    50%  \\\n",
            "InternetService Churn                                                        \n",
            "DSL             No     1671.0  60.296469  16.281463  24.15  49.6250  59.70   \n",
            "                Yes     397.0  48.885516  13.594409  23.45  41.1500  49.15   \n",
            "Fiber optic     No     1536.0  93.908952  12.624641  68.60  84.4375  94.75   \n",
            "                Yes    1091.0  88.239413  12.093636  67.75  78.4500  87.40   \n",
            "No              No     1192.0  21.146686   2.222944  18.25  19.7000  20.15   \n",
            "                Yes      99.0  20.433333   1.540259  18.85  19.6500  20.00   \n",
            "\n",
            "                            75%     max  \n",
            "InternetService Churn                    \n",
            "DSL             No      72.9500   94.80  \n",
            "                Yes     55.6500   85.35  \n",
            "Fiber optic     No     104.4125  118.75  \n",
            "                Yes     98.7500  118.35  \n",
            "No              No      21.0500   26.90  \n",
            "                Yes     20.4500   25.90  \n"
          ]
        }
      ]
    },
    {
      "cell_type": "markdown",
      "source": [
        "Анализируя полученные данные и обобщая результаты, можно сказать, что отток клиентов сильно связан с выбором интернет провайдера InternetService. Также на отток влияет размер месячной абонентной платы MonthlyCharges. Интернет провайдер FiberOptic имеет наибольшое значение ушедших клиентов, связываю с тем что размеры абонентной платы у этого оператора выше в 2 раза чем у конкурентов. Также смотря на значения 25 процентиля у ушедних клиентов, можно сделать вывод что клиентам предлагали непосильный месячный платеж."
      ],
      "metadata": {
        "id": "R_Sn3634AAiN"
      }
    },
    {
      "cell_type": "markdown",
      "source": [
        "Для прогназирования оттока клиентов выберем алгоритмы классификации и сравнивать между собой будет по метрике AUC-ROC, т.к датасет несбалансированный, будем смотреть как алгоритм работает внутри одного класса."
      ],
      "metadata": {
        "id": "L2zOvMv7C4Cu"
      }
    },
    {
      "cell_type": "markdown",
      "metadata": {
        "id": "YnZrI40dVYSZ"
      },
      "source": [
        "# 3. Построение моделей для прогнозирования оттока"
      ]
    },
    {
      "cell_type": "markdown",
      "source": [
        "В качестве базовых алгоритмов возьмем kNN, LogisticRegression, DesisionTreeClassifier, GradientBoostingClassifier, RandomForestClassifier и SupportVectorClassification.<br>\n",
        "Также реализуем stacking, в качестве мета-алгоритма будем использовать XGBoost."
      ],
      "metadata": {
        "id": "D7oib8sE_OLL"
      }
    },
    {
      "cell_type": "code",
      "metadata": {
        "id": "wwrrkx8pVYSa"
      },
      "source": [
        "from sklearn.neighbors import KNeighborsClassifier\n",
        "from sklearn.tree import DecisionTreeClassifier\n",
        "from sklearn.linear_model import LogisticRegression\n",
        "from sklearn.svm import SVC\n",
        "from sklearn.ensemble import GradientBoostingClassifier, RandomForestClassifier\n",
        "\n",
        "from xgboost import XGBClassifier\n",
        "\n",
        "from sklearn.model_selection import (GridSearchCV,\n",
        "                                     train_test_split,\n",
        "                                     StratifiedKFold)\n",
        "\n",
        "from sklearn.metrics import accuracy_score, recall_score, roc_auc_score\n",
        "\n",
        "target = df_drop['Churn']\n",
        "data = df_drop.drop('Churn', axis=1)\n",
        "\n",
        "# Датасет несбалансированный параметр, поэтому задаем параметр stratify\n",
        "X_train, X_test, y_train, y_test = train_test_split(data, target, random_state = 42, test_size = 0.7, stratify = target)"
      ],
      "execution_count": null,
      "outputs": []
    },
    {
      "cell_type": "markdown",
      "source": [
        "Найдем лучшие параметры для моделей, для этого зададим диапазоны параметров для базовых методов."
      ],
      "metadata": {
        "id": "oEvJj3Ma_v5V"
      }
    },
    {
      "cell_type": "code",
      "source": [
        "knn_params = {'n_neighbors' : np.arange(1, 10, 1)}\n",
        "\n",
        "dtc_params = {'max_depth': range(1, 8), \n",
        "              'max_features': range(1, 13)}\n",
        "\n",
        "gbc_params = {'learning_rate': np.arange(0.1, 0.6, 0.1)} # GradientBoostingClassifier\n",
        "\n",
        "rfc_params = {'n_estimators': range(10, 100, 10), # RandomForestClassifier\n",
        "              'min_samples_leaf': range(1, 5)}\n",
        "\n",
        "svc_params = {'kernel': ['linear', 'rbf'], # SVC\n",
        "              'C': np.arange(0.1, 1, 0.2)}\n",
        "\n",
        "lr_params = {'C': np.arange(0.5, 1, 0.1)}\n",
        "\n",
        "skf = StratifiedKFold(n_splits=5, random_state=17, shuffle = True)"
      ],
      "metadata": {
        "id": "riDepToQ_pYa"
      },
      "execution_count": null,
      "outputs": []
    },
    {
      "cell_type": "markdown",
      "source": [
        "*Для логистической регрессии задаем параметр весов*"
      ],
      "metadata": {
        "id": "bVBHbmNNFNhy"
      }
    },
    {
      "cell_type": "code",
      "source": [
        "class_weight = {0: target[target == 1].count() / target.count(),\n",
        "                1: target[target == 0].count() / target.count()}  # для LogisticRegression"
      ],
      "metadata": {
        "id": "viWQD7JbFNqy"
      },
      "execution_count": null,
      "outputs": []
    },
    {
      "cell_type": "markdown",
      "source": [
        "*С помощью GreadSearchCV настроенную на метрику roc_auc и 5-кратной кросс-валидации выведем лучшее сочетание параметров для каждого из алгоритмов.*"
      ],
      "metadata": {
        "id": "ttDx9LDHEwsM"
      }
    },
    {
      "cell_type": "code",
      "source": [
        "knn = KNeighborsClassifier()\n",
        "knn_grid = GridSearchCV(knn, param_grid=knn_params, scoring='roc_auc', cv=skf)\n",
        "dtc = DecisionTreeClassifier(random_state=17)\n",
        "dtc_grid = GridSearchCV(dtc, param_grid=dtc_params, scoring='roc_auc', cv=skf)\n",
        "gbc = GradientBoostingClassifier(random_state=17)\n",
        "gbc_grid = GridSearchCV(gbc, param_grid=gbc_params, scoring='roc_auc', cv=skf)\n",
        "rfc = RandomForestClassifier(random_state=17)\n",
        "rfc_grid = GridSearchCV(rfc, param_grid=rfc_params, scoring='roc_auc', cv=skf)\n",
        "svc = SVC(random_state=17)\n",
        "svc_grid = GridSearchCV(svc, param_grid=svc_params, scoring='roc_auc', cv=skf)\n",
        "lr = LogisticRegression(random_state=17, class_weight=class_weight)\n",
        "lr_grid = GridSearchCV(lr, param_grid=lr_params, scoring='roc_auc', cv=skf)"
      ],
      "metadata": {
        "id": "fdDaUhA9j464"
      },
      "execution_count": null,
      "outputs": []
    },
    {
      "cell_type": "code",
      "source": [
        "knn_model = knn_grid.fit(X_train, y_train)\n",
        "print(f'Лучшее сочетание параметров для KNeighborsClassifier: {knn_model.best_params_}\\n')\n",
        "dtc_model = dtc_grid.fit(X_train, y_train)\n",
        "print(f'Лучшее сочетание параметров для DecisionTreeClassifier: {dtc_model.best_params_}\\n')\n",
        "gbc_model = gbc_grid.fit(X_train, y_train)\n",
        "print(f'Лучшее сочетание параметров для GradientBoostingClassifier: {gbc_model.best_params_}\\n')\n",
        "rfc_model = rfc_grid.fit(X_train, y_train)\n",
        "print(f'Лучшее сочетание параметров для RandomForestClassifier: {rfc_model.best_params_}\\n')\n",
        "svc_model = svc_grid.fit(X_train, y_train)\n",
        "print(f'Лучшее сочетание параметров для SVC: {svc_model.best_params_}\\n')\n",
        "lr_model = lr_grid.fit(X_train, y_train)\n",
        "print(f'Лучшее сочетание параметров для LogisticRegression: {lr_model.best_params_}\\n')"
      ],
      "metadata": {
        "colab": {
          "base_uri": "https://localhost:8080/"
        },
        "id": "3zDpIETctNWc",
        "outputId": "f782eab7-7bcb-4ffd-a0bf-f3add510ab16"
      },
      "execution_count": null,
      "outputs": [
        {
          "output_type": "stream",
          "name": "stdout",
          "text": [
            "Лучшее сочетание параметров для KNeighborsClassifier: {'n_neighbors': 9}\n",
            "\n",
            "Лучшее сочетание параметров для DecisionTreeClassifier: {'max_depth': 5, 'max_features': 11}\n",
            "\n",
            "Лучшее сочетание параметров для GradientBoostingClassifier: {'learning_rate': 0.1}\n",
            "\n",
            "Лучшее сочетание параметров для RandomForestClassifier: {'min_samples_leaf': 4, 'n_estimators': 50}\n",
            "\n",
            "Лучшее сочетание параметров для SVC: {'C': 0.1, 'kernel': 'linear'}\n",
            "\n",
            "Лучшее сочетание параметров для LogisticRegression: {'C': 0.5}\n",
            "\n"
          ]
        }
      ]
    },
    {
      "cell_type": "markdown",
      "source": [
        "Получим метрику качества auc_roc для все алгоритмов с найденными оптимальными параметрами."
      ],
      "metadata": {
        "id": "-dVSwuh4G8ID"
      }
    },
    {
      "cell_type": "code",
      "source": [
        "knn_model = KNeighborsClassifier(n_neighbors=9).fit(X_train, y_train)\n",
        "knn_pred = knn_model.predict(X_test)\n",
        "print('Метод: \"KNeighborsClassifier\"')\n",
        "print(f'Метрика качества: \"AUC\": {roc_auc_score(y_test, knn_pred)}\\n')\n",
        "\n",
        "dtc_model = DecisionTreeClassifier(max_depth=5, max_features=11, random_state=17).fit(X_train, y_train)\n",
        "dtc_pred = dtc_model.predict(X_test)\n",
        "print('Метод: \"DecisionTreeClassifier\"')\n",
        "print(f'Метрика качества: \"AUC\": {roc_auc_score(y_test, dtc_pred)}\\n')\n",
        "\n",
        "gbc_model = GradientBoostingClassifier(learning_rate=0.1, random_state=17).fit(X_train, y_train)\n",
        "gbc_pred = gbc_model.predict(X_test)\n",
        "print('Метод: \"GradientBoostingClassifier\"')\n",
        "print(f'Метрика качества: \"AUC\": {roc_auc_score(y_test, gbc_pred)}\\n')\n",
        "\n",
        "rfc_model = RandomForestClassifier(min_samples_leaf=4, n_estimators=50, random_state=17).fit(X_train, y_train)\n",
        "rfc_pred = rfc_model.predict(X_test)\n",
        "print('Метод: \"RandomForestClassifier\"')\n",
        "print(f'Метрика качества: \"AUC\": {roc_auc_score(y_test, rfc_pred)}\\n')\n",
        "\n",
        "svc_model = SVC(C=0.1, kernel='linear', random_state=17).fit(X_train, y_train)\n",
        "svc_pred = svc_model.predict(X_test)\n",
        "print('Метод: \"SupportVectorClassification\"')\n",
        "print(f'Метрика качества: \"AUC\": {roc_auc_score(y_test, svc_pred)}\\n')\n",
        "\n",
        "lr_model = LogisticRegression(C=0.5, random_state=17).fit(X_train, y_train)\n",
        "lr_pred = lr_model.predict(X_test)\n",
        "print('Метод: \"LogisticRegression\"')\n",
        "print(f'Метрика качества: \"AUC\": {roc_auc_score(y_test, lr_pred)}\\n')"
      ],
      "metadata": {
        "colab": {
          "base_uri": "https://localhost:8080/"
        },
        "id": "RxfOZEqHnauK",
        "outputId": "b29a9e45-e1af-426e-dc7f-0d79736446ac"
      },
      "execution_count": null,
      "outputs": [
        {
          "output_type": "stream",
          "name": "stdout",
          "text": [
            "Метод: \"KNeighborsClassifier\"\n",
            "Метрика качества: \"AUC\": 0.6915005786292915\n",
            "\n",
            "Метод: \"DecisionTreeClassifier\"\n",
            "Метрика качества: \"AUC\": 0.6991513437057991\n",
            "\n",
            "Метод: \"GradientBoostingClassifier\"\n",
            "Метрика качества: \"AUC\": 0.7087453388195962\n",
            "\n",
            "Метод: \"RandomForestClassifier\"\n",
            "Метрика качества: \"AUC\": 0.6820174874630321\n",
            "\n",
            "Метод: \"SupportVectorClassification\"\n",
            "Метрика качества: \"AUC\": 0.7002684196991127\n",
            "\n",
            "Метод: \"LogisticRegression\"\n",
            "Метрика качества: \"AUC\": 0.7057428957181433\n",
            "\n"
          ]
        }
      ]
    },
    {
      "cell_type": "markdown",
      "source": [
        "*Реализуем метод Stacking с используемыми алгоритмами."
      ],
      "metadata": {
        "id": "M8wybC6JJSGJ"
      }
    },
    {
      "cell_type": "code",
      "source": [
        "train, valid, train_true, valid_true = train_test_split(X_train, y_train,train_size=0.5,random_state=17)"
      ],
      "metadata": {
        "id": "dCYVizJ36G7m"
      },
      "execution_count": null,
      "outputs": []
    },
    {
      "cell_type": "code",
      "source": [
        "knn_base = KNeighborsClassifier(n_neighbors=9).fit(train, train_true)\n",
        "knn_base_pred = knn_base.predict(valid)\n",
        "\n",
        "\n",
        "dtc_base = DecisionTreeClassifier(max_depth=5, max_features=11, random_state=17).fit(train, train_true)\n",
        "dtc_base_pred = dtc_base.predict(valid)\n",
        "\n",
        "\n",
        "gbc_base = GradientBoostingClassifier(learning_rate=0.1, random_state=17).fit(train, train_true)\n",
        "gbc_base_pred = gbc_base.predict(valid)\n",
        "\n",
        "\n",
        "rfc_base = RandomForestClassifier(min_samples_leaf=4, n_estimators=60, random_state=17).fit(train, train_true)\n",
        "rfc_base_pred = rfc_base.predict(valid)\n",
        "\n",
        "\n",
        "svc_base = SVC(C=0.1, kernel='linear', random_state=17).fit(train, train_true)\n",
        "svc_base_pred = svc_base.predict(valid)\n",
        "\n",
        "\n",
        "lr_base = LogisticRegression(C=0.5, random_state=17).fit(train, train_true)\n",
        "lr_base_pred = lr_base.predict(valid)"
      ],
      "metadata": {
        "id": "rTDJAnFnAuzP"
      },
      "execution_count": null,
      "outputs": []
    },
    {
      "cell_type": "markdown",
      "source": [
        "Матрицу метапризнаков заполним из предсказаний, полученных на первой части валидационных данных базовыми алгоритмами."
      ],
      "metadata": {
        "id": "XnHwYkAwKj5E"
      }
    },
    {
      "cell_type": "code",
      "source": [
        "meta_feature_stacking = [knn_base_pred, dtc_base_pred, gbc_base_pred, rfc_base_pred, svc_base_pred, lr_base_pred]\n",
        "meta_mtrx_stacking = np.empty((valid.shape[0], len(meta_feature_stacking)))\n",
        "for n, feature in enumerate(meta_feature_stacking):\n",
        "    meta_mtrx_stacking[:, n] = feature"
      ],
      "metadata": {
        "id": "JS8BzpMypG8p"
      },
      "execution_count": null,
      "outputs": []
    },
    {
      "cell_type": "markdown",
      "source": [
        "С помощью GridSearchCV и указанных ниже параметров настроим мета-алгоритм на мета-признаках (используя 5-кратную валидацию при определении алгоритма)."
      ],
      "metadata": {
        "id": "_P3y7bqIKq70"
      }
    },
    {
      "cell_type": "code",
      "source": [
        "xgb_params = {'n_estimators': range(10, 100, 5),\n",
        "              'eta': np.arange(0.1, 1., .1),\n",
        "              'min_child_weight': range(1, 10, 1),\n",
        "              'subsample': np.arange(0.1, 1., 0.2)}\n",
        "\n",
        "scale_pos_weight = target[target == 0].count() / target.count()  # параметр весов\n",
        "\n",
        "meta_stacking = XGBClassifier(random_state=17, cv=5)\n",
        "meta_grid_stacking = GridSearchCV(meta_stacking, param_grid=xgb_params, cv=skf)\n",
        "meta_grid_model_stacking = meta_grid_stacking.fit(meta_mtrx_stacking, valid_true)\n",
        "print(f'Лучшее сочетание параметров для XGBClassifier: {meta_grid_model_stacking.best_params_}')"
      ],
      "metadata": {
        "colab": {
          "base_uri": "https://localhost:8080/"
        },
        "id": "ZSjExY0sKqsM",
        "outputId": "6d020a9c-00a5-4193-f3ba-9cd7ec78c9d8"
      },
      "execution_count": null,
      "outputs": [
        {
          "output_type": "stream",
          "name": "stdout",
          "text": [
            "Лучшее сочетание параметров для XGBClassifier: {'eta': 0.1, 'min_child_weight': 2, 'n_estimators': 10, 'subsample': 0.7000000000000001}\n"
          ]
        }
      ]
    },
    {
      "cell_type": "markdown",
      "source": [
        "Используем лучшие параметры для обучения модели"
      ],
      "metadata": {
        "id": "QT7pPi7cKqfE"
      }
    },
    {
      "cell_type": "code",
      "source": [
        "meta_stacking = XGBClassifier(random_state=17, eta=0.1, min_child_weight=2, n_estimators=10, subsample=0.7000000000000001, cv=5)\n",
        "meta_model = meta_stacking.fit(meta_mtrx_stacking, valid_true)\n",
        "\n",
        "models = [knn_base, dtc_base, gbc_base, rfc_base, svc_base, lr_base]\n",
        "meta_mtrx_test = np.empty((X_test.shape[0], len(models)))\n",
        "\n",
        "for n, model in enumerate(models):\n",
        "    meta_mtrx_test[:, n] = model.predict(X_test)\n",
        "    \n",
        "meta_predict = meta_model.predict(meta_mtrx_test)"
      ],
      "metadata": {
        "id": "aph1cWvAGXFN"
      },
      "execution_count": null,
      "outputs": []
    },
    {
      "cell_type": "markdown",
      "source": [
        "Выведем метрику качества модели после stacking"
      ],
      "metadata": {
        "id": "_WXXTaF-ObXB"
      }
    },
    {
      "cell_type": "code",
      "source": [
        "print('Метод: \"Stacking\"')\n",
        "print(f'Метрика качества: \"AUC\": {roc_auc_score(y_test, meta_predict)}')"
      ],
      "metadata": {
        "colab": {
          "base_uri": "https://localhost:8080/"
        },
        "id": "LuFC_yOcn7di",
        "outputId": "a850779d-0bb5-439c-b692-9cd07e96b7cb"
      },
      "execution_count": null,
      "outputs": [
        {
          "output_type": "stream",
          "name": "stdout",
          "text": [
            "Метод: \"Stacking\"\n",
            "Метрика качества: \"AUC\": 0.6944708756589945\n"
          ]
        }
      ]
    },
    {
      "cell_type": "markdown",
      "metadata": {
        "id": "uyDpeHkTVYSf"
      },
      "source": [
        "# 4. Сравнение качества моделей "
      ]
    },
    {
      "cell_type": "markdown",
      "source": [
        "Для прогназирование оттока клиентов в рамках данной работы лучше всего себя показала модель градиентного бустинга деревьев (GradientBoostingClassifier) со значением метрики:<br>\n",
        "AUC-ROC GradientBoostingClassifier - 0,7087.<br>\n",
        "У моделей метода опорных векторов (SVC) и логистической регрессии (LogisticRegression) метрика качества AUC-ROC получилась соизмеримой с моделью градиентного бустинга деревьев.<br>\n",
        "AUC-ROC SVC - 0,7002<br>\n",
        "AUC-ROC LogisticRegression - 0,7057"
      ],
      "metadata": {
        "id": "-aG-aGuPVyRz"
      }
    }
  ]
}